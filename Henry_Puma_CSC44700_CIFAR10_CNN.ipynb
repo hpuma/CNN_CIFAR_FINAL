{
 "cells": [
  {
   "cell_type": "code",
   "execution_count": 1,
   "metadata": {},
   "outputs": [],
   "source": [
    "from keras.layers.convolutional import Conv2D, MaxPooling2D\n",
    "from keras.layers import Dense, Dropout,Flatten\n",
    "from keras.callbacks import TensorBoard\n",
    "from keras.constraints import maxnorm\n",
    "from keras.models import Sequential\n",
    "from keras.optimizers import SGD\n",
    "from keras.utils import np_utils\n",
    "from keras.datasets import cifar10\n",
    "import matplotlib.pyplot as plt\n",
    "import random as rd\n",
    "import numpy as np"
   ]
  },
  {
   "cell_type": "code",
   "execution_count": 2,
   "metadata": {},
   "outputs": [],
   "source": [
    "# Setting up Tensor board for recording... Pretty trivial. Mostly needed to generate charts\n",
    "tensorboard = TensorBoard(log_dir='./logs/run1', histogram_freq=1,\n",
    "    write_graph=True, write_images=False)  "
   ]
  },
  {
   "cell_type": "code",
   "execution_count": 3,
   "metadata": {},
   "outputs": [],
   "source": [
    "(train_X,train_Y),(test_X,test_Y) = cifar10.load_data()\n",
    "\n",
    "# Adjusting , Previously shrinking dataset so that model trains faster\n",
    "# train_X = train_X[:20000]\n",
    "# train_Y = train_Y[:20000]\n",
    "\n",
    "# test_X = test_X[:500]\n",
    "# test_Y = test_Y[:500]"
   ]
  },
  {
   "cell_type": "code",
   "execution_count": 271,
   "metadata": {},
   "outputs": [],
   "source": [
    "train_Y = train_Y.reshape(-1,) # Reshaping to normal list\n",
    "test_Y = test_Y.reshape(-1,) # Reshaping to normal list\n",
    "\n",
    "# Used to plot samples for visualization\n",
    "# Plots the sample itself along with its correct classification\n",
    "classes = [\"airplane\", \"automobile\", \"bird\", \"cat\", \"deer\", \"dog\", \"frog\", \"horse\", \"ship\", \"truck\"]\n",
    "def plot_sample(X, Y, index):\n",
    "    \n",
    "    plt.figure(figsize=(15,2))\n",
    "    plt.title(\"ACTUAL\")\n",
    "    plt.imshow(X[index])\n",
    "    plt.xlabel(classes[Y[index]])\n",
    "    print(\"\\n\\n\")\n",
    "    return classes[Y[index]]"
   ]
  },
  {
   "cell_type": "code",
   "execution_count": 272,
   "metadata": {},
   "outputs": [
    {
     "name": "stdout",
     "output_type": "stream",
     "text": [
      "\n",
      "\n",
      "\n",
      "\n",
      "\n",
      "\n",
      "\n",
      "\n",
      "\n"
     ]
    },
    {
     "data": {
      "image/png": "[encoded data removed]",
      "text/plain": [
       "<Figure size 1080x144 with 1 Axes>"
      ]
     },
     "metadata": {
      "needs_background": "light"
     },
     "output_type": "display_data"
    },
    {
     "data": {
      "image/png": "[encoded data removed]",
      "text/plain": [
       "<Figure size 1080x144 with 1 Axes>"
      ]
     },
     "metadata": {
      "needs_background": "light"
     },
     "output_type": "display_data"
    },
    {
     "data": {
      "image/png": "[encoded data removed]",
      "text/plain": [
       "<Figure size 1080x144 with 1 Axes>"
      ]
     },
     "metadata": {
      "needs_background": "light"
     },
     "output_type": "display_data"
    }
   ],
   "source": [
    "n_samples = 3\n",
    "for i in range(n_samples):\n",
    "    plot_sample(train_X, train_Y, i)\n",
    "    "
   ]
  },
  {
   "cell_type": "code",
   "execution_count": 50,
   "metadata": {},
   "outputs": [
    {
     "data": {
      "text/plain": [
       "'ship'"
      ]
     },
     "execution_count": 50,
     "metadata": {},
     "output_type": "execute_result"
    }
   ],
   "source": [
    "classes[y_classes[0]]"
   ]
  },
  {
   "cell_type": "code",
   "execution_count": 6,
   "metadata": {},
   "outputs": [],
   "source": [
    "# Small data preparation...\n",
    "train_X = train_X.astype('float32')\n",
    "test_X = test_X.astype('float32')\n",
    " \n",
    "train_X = train_X/255.0\n",
    "test_X = test_X/255.0"
   ]
  },
  {
   "cell_type": "code",
   "execution_count": 7,
   "metadata": {},
   "outputs": [
    {
     "name": "stdout",
     "output_type": "stream",
     "text": [
      "[[0. 0. 0. 1. 0. 0. 0. 0. 0. 0.]\n",
      " [0. 0. 0. 0. 0. 0. 0. 0. 1. 0.]\n",
      " [0. 0. 0. 0. 0. 0. 0. 0. 1. 0.]\n",
      " [1. 0. 0. 0. 0. 0. 0. 0. 0. 0.]\n",
      " [0. 0. 0. 0. 0. 0. 1. 0. 0. 0.]\n",
      " [0. 0. 0. 0. 0. 0. 1. 0. 0. 0.]\n",
      " [0. 1. 0. 0. 0. 0. 0. 0. 0. 0.]\n",
      " [0. 0. 0. 0. 0. 0. 1. 0. 0. 0.]\n",
      " [0. 0. 0. 1. 0. 0. 0. 0. 0. 0.]\n",
      " [0. 1. 0. 0. 0. 0. 0. 0. 0. 0.]]\n",
      "Num_classes:\t 10\n"
     ]
    }
   ],
   "source": [
    "ntrain_Y = np_utils.to_categorical(train_Y)\n",
    "ntest_Y = np_utils.to_categorical(test_Y)\n",
    "\n",
    "num_classes = ntest_Y.shape[1]\n",
    "print(ntest_Y[:10])\n",
    "print(\"Num_classes:\\t\",num_classes)"
   ]
  },
  {
   "cell_type": "code",
   "execution_count": 8,
   "metadata": {},
   "outputs": [],
   "source": [
    "# Convolution Neural network implementation, much more concise and more raw that will have\n",
    "# more detail adjustments in paper, start simple then move forward\n",
    "cnn_model = Sequential()\n",
    "cnn_model.add(Conv2D(filters=32, kernel_size=(3,3), activation='relu', input_shape=(32,32,3)))\n",
    "cnn_model.add(MaxPooling2D((2,2)))\n",
    "\n",
    "cnn_model.add(Conv2D(filters=64, kernel_size=(3,3), activation='relu'))\n",
    "cnn_model.add(MaxPooling2D((2,2)))\n",
    "\n",
    "cnn_model.add(Flatten())\n",
    "cnn_model.add(Dense(64,activation='relu'))\n",
    "cnn_model.add(Dense(num_classes, activation='softmax'))"
   ]
  },
  {
   "cell_type": "code",
   "execution_count": 9,
   "metadata": {},
   "outputs": [],
   "source": [
    "cnn_model.compile(optimizer=\"adam\", loss=\"sparse_categorical_crossentropy\", metrics=['accuracy'])"
   ]
  },
  {
   "cell_type": "code",
   "execution_count": 10,
   "metadata": {},
   "outputs": [
    {
     "name": "stdout",
     "output_type": "stream",
     "text": [
      "Epoch 1/10\n",
      "1563/1563 [==============================] - 10s 6ms/step - loss: 1.5095 - accuracy: 0.4533\n",
      "Epoch 2/10\n",
      "1563/1563 [==============================] - 10s 6ms/step - loss: 1.1456 - accuracy: 0.5966\n",
      "Epoch 3/10\n",
      "1563/1563 [==============================] - 10s 6ms/step - loss: 1.0141 - accuracy: 0.6467\n",
      "Epoch 4/10\n",
      "1563/1563 [==============================] - 10s 6ms/step - loss: 0.9343 - accuracy: 0.6746\n",
      "Epoch 5/10\n",
      "1563/1563 [==============================] - 10s 6ms/step - loss: 0.8776 - accuracy: 0.6956\n",
      "Epoch 6/10\n",
      "1563/1563 [==============================] - 10s 6ms/step - loss: 0.8307 - accuracy: 0.7129\n",
      "Epoch 7/10\n",
      "1563/1563 [==============================] - 10s 6ms/step - loss: 0.7861 - accuracy: 0.7275\n",
      "Epoch 8/10\n",
      "1563/1563 [==============================] - 10s 6ms/step - loss: 0.7482 - accuracy: 0.7406\n",
      "Epoch 9/10\n",
      "1563/1563 [==============================] - 10s 6ms/step - loss: 0.7199 - accuracy: 0.7507\n",
      "Epoch 10/10\n",
      "1563/1563 [==============================] - 10s 6ms/step - loss: 0.6846 - accuracy: 0.7624\n"
     ]
    },
    {
     "data": {
      "text/plain": [
       "<tensorflow.python.keras.callbacks.History at 0x7fa209a54370>"
      ]
     },
     "execution_count": 10,
     "metadata": {},
     "output_type": "execute_result"
    }
   ],
   "source": [
    "# Fitting and saving to callbacks_list for tensoboard\n",
    "callbacks_list = []\n",
    "cnn_model.fit(train_X, train_Y, callbacks=callbacks_list, epochs=10)"
   ]
  },
  {
   "cell_type": "code",
   "execution_count": 11,
   "metadata": {},
   "outputs": [
    {
     "name": "stdout",
     "output_type": "stream",
     "text": [
      "313/313 [==============================] - 1s 2ms/step - loss: 0.9107 - accuracy: 0.6961\n"
     ]
    },
    {
     "data": {
      "text/plain": [
       "[0.91070157289505, 0.6960999965667725]"
      ]
     },
     "execution_count": 11,
     "metadata": {},
     "output_type": "execute_result"
    }
   ],
   "source": [
    "cnn_model.evaluate(test_X, test_Y)"
   ]
  },
  {
   "cell_type": "code",
   "execution_count": 12,
   "metadata": {},
   "outputs": [
    {
     "name": "stdout",
     "output_type": "stream",
     "text": [
      "Model: \"sequential\"\n",
      "_________________________________________________________________\n",
      "Layer (type)                 Output Shape              Param #   \n",
      "=================================================================\n",
      "conv2d (Conv2D)              (None, 30, 30, 32)        896       \n",
      "_________________________________________________________________\n",
      "max_pooling2d (MaxPooling2D) (None, 15, 15, 32)        0         \n",
      "_________________________________________________________________\n",
      "conv2d_1 (Conv2D)            (None, 13, 13, 64)        18496     \n",
      "_________________________________________________________________\n",
      "max_pooling2d_1 (MaxPooling2 (None, 6, 6, 64)          0         \n",
      "_________________________________________________________________\n",
      "flatten (Flatten)            (None, 2304)              0         \n",
      "_________________________________________________________________\n",
      "dense (Dense)                (None, 64)                147520    \n",
      "_________________________________________________________________\n",
      "dense_1 (Dense)              (None, 10)                650       \n",
      "=================================================================\n",
      "Total params: 167,562\n",
      "Trainable params: 167,562\n",
      "Non-trainable params: 0\n",
      "_________________________________________________________________\n"
     ]
    }
   ],
   "source": [
    "cnn_model.summary()"
   ]
  },
  {
   "cell_type": "code",
   "execution_count": 13,
   "metadata": {},
   "outputs": [
    {
     "name": "stdout",
     "output_type": "stream",
     "text": [
      "Num_prediction_vectors:\t 10000\n",
      "First_prediction_vector:\n",
      " [9.2203444e-04 2.0972271e-05 2.3645943e-03 8.5755602e-02 5.8357377e-04\n",
      " 1.2657999e-02 2.4925202e-02 5.5640750e-05 8.7195843e-01 7.5603108e-04]\n"
     ]
    }
   ],
   "source": [
    "# Getting the all the test X vectors OUTPUT of size N=10 for each prediction of the classes\n",
    "y_predictions = cnn_model.predict(test_X)\n",
    "print(\"Num_prediction_vectors:\\t\",len(y_predictions))\n",
    "print(\"First_prediction_vector:\\n\",y_predictions[0])"
   ]
  },
  {
   "cell_type": "code",
   "execution_count": 14,
   "metadata": {},
   "outputs": [],
   "source": [
    "# Finding most likley to be based on highest val from and getting class corresponding to that test\n",
    "# Each element is the absolute class that is predicted for that test input at that index\n",
    "y_classes = [np.argmax(i) for i in y_predictions]"
   ]
  },
  {
   "cell_type": "code",
   "execution_count": 15,
   "metadata": {},
   "outputs": [
    {
     "name": "stdout",
     "output_type": "stream",
     "text": [
      "Class Prediction:\t 8\n",
      "Actual Prediction vec:\n",
      " [9.2203444e-04 2.0972271e-05 2.3645943e-03 8.5755602e-02 5.8357377e-04\n",
      " 1.2657999e-02 2.4925202e-02 5.5640750e-05 8.7195843e-01 7.5603108e-04]\n"
     ]
    }
   ],
   "source": [
    "# Straightforward comparison, small part\n",
    "print(\"Class Prediction:\\t\",y_classes[0]) # Extracted classes from predicted\n",
    "print(\"Actual Prediction vec:\\n\",y_predictions[0]) # Actual"
   ]
  },
  {
   "cell_type": "code",
   "execution_count": 32,
   "metadata": {},
   "outputs": [
    {
     "name": "stdout",
     "output_type": "stream",
     "text": [
      "\n",
      "\n",
      "\n",
      "test_class_predicted: ship\n"
     ]
    },
    {
     "data": {
      "image/png": "[encoded data removed]",
      "text/plain": [
       "<Figure size 1080x144 with 1 Axes>"
      ]
     },
     "metadata": {
      "needs_background": "light"
     },
     "output_type": "display_data"
    }
   ],
   "source": [
    "# 1 v 1 comparison, A more simple comparison. Predict the first value of the predicted\n",
    "actual_test =  plot_sample(test_X, test_Y, 1)\n",
    "test_class_predicted = classes[y_classes[1]]\n",
    "print(\"test_class_predicted:\", test_class_predicted)"
   ]
  },
  {
   "cell_type": "code",
   "execution_count": 265,
   "metadata": {},
   "outputs": [],
   "source": [
    "# Gets the remaining predictions that is not the current model prediction\n",
    "def get_remaining_pred(skip_index, test_index):\n",
    "    for i in range(0, 10):\n",
    "        if (i != skip_index):\n",
    "            current_predicted = str(classes[i])\n",
    "            current_percent = \"{:.10f}\".format(y_predictions[test_index][i])            \n",
    "            current_predicted = \"{0:<15}\".format(current_predicted) \n",
    "            current_percent = \"{0:<50}\".format(current_percent)\n",
    "            \n",
    "\n",
    "            print(\"OTHER_PRED:\\t\",current_predicted, current_percent)\n",
    "            \n",
    "# Gets the current model prediction and displays the item predicted along with its percentage     \n",
    "# Always tests a random value, cannot be looped since the output is so dependent\n",
    "def test_value():\n",
    "    y_pred_len = len(y_predictions)\n",
    "\n",
    "    test_index = rd.randint(0, y_pred_len)\n",
    "    actual_test =  plot_sample(test_X, test_Y, test_index)\n",
    "    \n",
    "    class_predicted = str(classes[y_classes[test_index]])\n",
    "    percentage = \"{:.10f}\".format(max(y_predictions[test_index]))\n",
    "    class_predicted = \"{0:<15}\".format(class_predicted) \n",
    "    percentage = \"{0:<50}\".format(percentage)\n",
    "    \n",
    "\n",
    "    print(\"MODEL_PRED:\\t\", class_predicted, percentage, end=\"\\n\\n\")\n",
    "    get_remaining_pred(np.argmax(y_predictions[test_index]), test_index )"
   ]
  },
  {
   "cell_type": "code",
   "execution_count": 276,
   "metadata": {},
   "outputs": [
    {
     "name": "stdout",
     "output_type": "stream",
     "text": [
      "\n",
      "\n",
      "\n",
      "MODEL_PRED:\t deer            0.8108045459                                      \n",
      "\n",
      "OTHER_PRED:\t airplane        0.0005033406                                      \n",
      "OTHER_PRED:\t automobile      0.0000035547                                      \n",
      "OTHER_PRED:\t bird            0.1151704714                                      \n",
      "OTHER_PRED:\t cat             0.0221642386                                      \n",
      "OTHER_PRED:\t dog             0.0214709602                                      \n",
      "OTHER_PRED:\t frog            0.0009594164                                      \n",
      "OTHER_PRED:\t horse           0.0288763903                                      \n",
      "OTHER_PRED:\t ship            0.0000164434                                      \n",
      "OTHER_PRED:\t truck           0.0000306290                                      \n"
     ]
    },
    {
     "data": {
      "image/png": "[encoded data removed]",
      "text/plain": [
       "<Figure size 1080x144 with 1 Axes>"
      ]
     },
     "metadata": {
      "needs_background": "light"
     },
     "output_type": "display_data"
    }
   ],
   "source": [
    "test_value()"
   ]
  },
  {
   "cell_type": "code",
   "execution_count": 277,
   "metadata": {},
   "outputs": [
    {
     "name": "stdout",
     "output_type": "stream",
     "text": [
      "\n",
      "\n",
      "\n",
      "MODEL_PRED:\t frog            0.4181624055                                      \n",
      "\n",
      "OTHER_PRED:\t airplane        0.0011491725                                      \n",
      "OTHER_PRED:\t automobile      0.0000196193                                      \n",
      "OTHER_PRED:\t bird            0.1439086944                                      \n",
      "OTHER_PRED:\t cat             0.1241742522                                      \n",
      "OTHER_PRED:\t deer            0.1999398619                                      \n",
      "OTHER_PRED:\t dog             0.0989187360                                      \n",
      "OTHER_PRED:\t horse           0.0134862978                                      \n",
      "OTHER_PRED:\t ship            0.0000160099                                      \n",
      "OTHER_PRED:\t truck           0.0002250000                                      \n"
     ]
    },
    {
     "data": {
      "image/png": "[encoded data removed]",
      "text/plain": [
       "<Figure size 1080x144 with 1 Axes>"
      ]
     },
     "metadata": {
      "needs_background": "light"
     },
     "output_type": "display_data"
    }
   ],
   "source": [
    "test_value()"
   ]
  },
  {
   "cell_type": "code",
   "execution_count": 278,
   "metadata": {},
   "outputs": [
    {
     "name": "stdout",
     "output_type": "stream",
     "text": [
      "\n",
      "\n",
      "\n",
      "MODEL_PRED:\t dog             0.7336249948                                      \n",
      "\n",
      "OTHER_PRED:\t airplane        0.0000162709                                      \n",
      "OTHER_PRED:\t automobile      0.0000034940                                      \n",
      "OTHER_PRED:\t bird            0.1698070765                                      \n",
      "OTHER_PRED:\t cat             0.0520992391                                      \n",
      "OTHER_PRED:\t deer            0.0028986193                                      \n",
      "OTHER_PRED:\t frog            0.0050806515                                      \n",
      "OTHER_PRED:\t horse           0.0361725837                                      \n",
      "OTHER_PRED:\t ship            0.0000118139                                      \n",
      "OTHER_PRED:\t truck           0.0002852328                                      \n"
     ]
    },
    {
     "data": {
      "image/png": "[encoded data removed]",
      "text/plain": [
       "<Figure size 1080x144 with 1 Axes>"
      ]
     },
     "metadata": {
      "needs_background": "light"
     },
     "output_type": "display_data"
    }
   ],
   "source": [
    "test_value()"
   ]
  }
 ],
 "metadata": {
  "kernelspec": {
   "display_name": "Python 3",
   "language": "python",
   "name": "python3"
  },
  "language_info": {
   "codemirror_mode": {
    "name": "ipython",
    "version": 3
   },
   "file_extension": ".py",
   "mimetype": "text/x-python",
   "name": "python",
   "nbconvert_exporter": "python",
   "pygments_lexer": "ipython3",
   "version": "3.8.5"
  }
 },
 "nbformat": 4,
 "nbformat_minor": 4
}
